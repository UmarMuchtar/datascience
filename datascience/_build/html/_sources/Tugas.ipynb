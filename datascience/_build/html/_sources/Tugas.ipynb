{
 "cells": [
  {
   "cell_type": "markdown",
   "metadata": {},
   "source": [
    "# Flight Delay Prediction"
   ]
  },
  {
   "cell_type": "markdown",
   "metadata": {},
   "source": [
    "## Pendahuluan "
   ]
  },
  {
   "cell_type": "markdown",
   "metadata": {},
   "source": [
    "### 1. Latar Belakang"
   ]
  },
  {
   "cell_type": "markdown",
   "metadata": {},
   "source": [
    "Keterlambatan penerbangan adalah masalah yang sering dialami dalam industri penerbangan. Keterlambatan penerbangan adalah terjadinya perbedaan antara waktu keberangkatan pada jadwal keberangkatan dengan waktu keberangkatan yang sebenarnya. Keterlambatan penerbangan terjadi karena berbagai macam hal, seperti manajemen maskapai, operasional bandara, cuaca, dan lain lain."
   ]
  },
  {
   "cell_type": "markdown",
   "metadata": {},
   "source": [
    "Jika keterlambatan penerbangan terjadi akan mengakibatkan kerugian bagi pihak pihak yang terkait. Bagi penumpang, keterlambatan penerbangan mempengaruhi kenyamanan perjalanan, kerugian waktu dan uang. Sedangkan bagi maskapai, keterlambatan penerbangan mempengaruhi manajemen jadwal yang mengakibatkan kerugian finansial, selain itu keterlambatan penerbangan juga mempengaruhi reputasi dari maskapai itu sendiri. Kemudian bagi bandara, keterlambatan penerbangan akan mempengaruhi operasional normal dari bandara."
   ]
  },
  {
   "cell_type": "markdown",
   "metadata": {},
   "source": [
    "Visi dan misi dari proyek ini adalah menjadi solusi untuk memprediksi keterlambatan penerbangan dan meningkatkan kepuasan penumpang serta meningkatkan pelayanan dari maskapai penyedia layanan penerbangan. Tujuan dan target bisnis dari proyek ini adalah memberikan prediksi dengan tingkat akurasi yang tinggi, meningkatkan kepuasan dan kepercayaaan pelanggan terhadap maskapai, dan mengurangi kerugian yang diakibatkan oleh keterlambatan penerbangan. Guna mencapai tujuan tersebut, diperlukan strategi bisnis. Strategi bisnis yang digunakan untuk mencapai tujuan tersebut adalah dengan  melakukan pengumpulann dan integrasi data serta pemilihan model yang tepat. \n"
   ]
  },
  {
   "cell_type": "markdown",
   "metadata": {},
   "source": [
    "### 2. Tujuan"
   ]
  },
  {
   "cell_type": "markdown",
   "metadata": {},
   "source": [
    "Tujuan proyek ini adalah membangun model yang dapat memperkirakan kemungkinan keterlambatan penerbangan dengan menggunakan data historis,  sehingga maskapai atau penumpang dapat mengantisipasi terjadinya keterlambatan jadwal dan bisa mengurangi kerugian yang ditimbulkan."
   ]
  },
  {
   "cell_type": "markdown",
   "metadata": {},
   "source": [
    "### 3. Rumusan Masalah"
   ]
  },
  {
   "cell_type": "markdown",
   "metadata": {},
   "source": [
    "Bagaimana cara memprediksi sebuah penerbangan akan tertunda atau tepat waktu berdasarkan data historis dan informasi yang dimiliki sebelum keberangkatan?"
   ]
  },
  {
   "cell_type": "markdown",
   "metadata": {},
   "source": [
    "## Pembahasan"
   ]
  },
  {
   "cell_type": "markdown",
   "metadata": {},
   "source": [
    "#### 1. Data Understanding"
   ]
  },
  {
   "cell_type": "markdown",
   "metadata": {},
   "source": [
    "#### Pengumpulan Data"
   ]
  },
  {
   "cell_type": "markdown",
   "metadata": {},
   "source": [
    "#### Deskripsi Dataset"
   ]
  },
  {
   "cell_type": "markdown",
   "metadata": {},
   "source": [
    "#### Deskripsi Fitur dan Label"
   ]
  },
  {
   "cell_type": "markdown",
   "metadata": {},
   "source": [
    "### 2. Data Preprocessing"
   ]
  },
  {
   "cell_type": "markdown",
   "metadata": {},
   "source": [
    "#### Pendeteksian Outlier"
   ]
  },
  {
   "cell_type": "markdown",
   "metadata": {},
   "source": [
    "#### Pendeteksian Missing Value"
   ]
  },
  {
   "cell_type": "markdown",
   "metadata": {},
   "source": [
    "### 3. Modeling"
   ]
  },
  {
   "cell_type": "markdown",
   "metadata": {},
   "source": [
    "#### Menentukan Teknik Model"
   ]
  },
  {
   "cell_type": "markdown",
   "metadata": {},
   "source": [
    "#### Membangun Model"
   ]
  },
  {
   "cell_type": "markdown",
   "metadata": {},
   "source": [
    "### 4. Evaluasi"
   ]
  },
  {
   "cell_type": "markdown",
   "metadata": {},
   "source": [
    "### 5. Deployment"
   ]
  }
 ],
 "metadata": {
  "language_info": {
   "name": "python"
  }
 },
 "nbformat": 4,
 "nbformat_minor": 2
}
